{
  "nbformat": 4,
  "nbformat_minor": 0,
  "metadata": {
    "colab": {
      "provenance": [],
      "authorship_tag": "ABX9TyOzYJryn9wzHZAFxABPaF25",
      "include_colab_link": true
    },
    "kernelspec": {
      "name": "python3",
      "display_name": "Python 3"
    },
    "language_info": {
      "name": "python"
    }
  },
  "cells": [
    {
      "cell_type": "markdown",
      "metadata": {
        "id": "view-in-github",
        "colab_type": "text"
      },
      "source": [
        "<a href=\"https://colab.research.google.com/github/RafaelAlves9/ML-Hate-Comments-Classification/blob/main/HATE_COMMENTS_CLASSIFICATION.ipynb\" target=\"_parent\"><img src=\"https://colab.research.google.com/assets/colab-badge.svg\" alt=\"Open In Colab\"/></a>"
      ]
    },
    {
      "cell_type": "markdown",
      "source": [
        "============================================================================\n",
        "# MVP - CLASSIFICAÇÃO DE COMENTÁRIOS DE ÓDIO EM REDES SOCIAIS\n",
        "============================================================================\n",
        "\n",
        "# 1. IMPORTAÇÃO DAS BIBLIOTECAS"
      ],
      "metadata": {
        "id": "NibpJNA0Le4L"
      }
    },
    {
      "cell_type": "code",
      "source": [
        "import pandas as pd\n",
        "import numpy as np\n",
        "import matplotlib.pyplot as plt\n",
        "import seaborn as sns\n",
        "from sklearn.model_selection import train_test_split, cross_val_score, GridSearchCV\n",
        "from sklearn.feature_extraction.text import TfidfVectorizer\n",
        "from sklearn.preprocessing import StandardScaler\n",
        "from sklearn.pipeline import Pipeline\n",
        "from sklearn.neighbors import KNeighborsClassifier\n",
        "from sklearn.tree import DecisionTreeClassifier\n",
        "from sklearn.naive_bayes import MultinomialNB\n",
        "from sklearn.svm import SVC\n",
        "from sklearn.svm import LinearSVC\n",
        "from sklearn.metrics import classification_report, confusion_matrix, accuracy_score, precision_score, recall_score, f1_score\n",
        "import joblib\n",
        "import re\n",
        "import string\n",
        "from collections import Counter\n",
        "import warnings\n",
        "warnings.filterwarnings('ignore')\n",
        "\n",
        "print(\"✅ Bibliotecas importadas com sucesso!\")"
      ],
      "metadata": {
        "colab": {
          "base_uri": "https://localhost:8080/"
        },
        "id": "NRb2gi6tLz34",
        "outputId": "ae935177-0912-47c7-972c-ef36f03a3a84"
      },
      "execution_count": 3,
      "outputs": [
        {
          "output_type": "stream",
          "name": "stdout",
          "text": [
            "✅ Bibliotecas importadas com sucesso!\n"
          ]
        }
      ]
    },
    {
      "cell_type": "markdown",
      "source": [
        "============================================================================\n",
        "# 2. CARREGAMENTO E EXPLORAÇÃO DOS DADOS\n",
        "============================================================================"
      ],
      "metadata": {
        "id": "VfB9Jt7YLr8_"
      }
    },
    {
      "cell_type": "code",
      "source": [
        "print(\"\\n\" + \"=\"*60)\n",
        "print(\"1. CARREGAMENTO E EXPLORAÇÃO DOS DADOS\")\n",
        "print(\"=\"*60)\n",
        "\n",
        "url = \"https://raw.githubusercontent.com/RafaelAlves9/ML-Hate-Comments-Classification/refs/heads/main/hate.csv\"\n",
        "\n",
        "# Tenta diferentes encodings para evitar erro de leitura\n",
        "encodings = ['utf-8', 'latin1', 'iso-8859-1', 'cp1252']\n",
        "df = None\n",
        "for enc in encodings:\n",
        "    try:\n",
        "        df = pd.read_csv(\n",
        "            url,\n",
        "            encoding=enc,\n",
        "            sep=',',\n",
        "            on_bad_lines='skip'  # pandas >= 1.3.0\n",
        "        )\n",
        "        print(f\"✅ Dataset carregado com sucesso usando encoding: {enc}\")\n",
        "        break\n",
        "    except Exception as e:\n",
        "        print(f\"❌ Falha ao carregar com encoding {enc}: {e}\")\n",
        "\n",
        "if df is None or df.empty:\n",
        "    raise Exception(\"Não foi possível carregar o dataset. Verifique o arquivo CSV.\")\n",
        "\n",
        "# Visualização das primeiras linhas\n",
        "print(\"\\n📋 Primeiras 5 linhas do dataset:\")\n",
        "print(df.head())\n",
        "\n",
        "# Informações sobre o dataset\n",
        "print(\"\\n📈 Informações gerais do dataset:\")\n",
        "print(df.info())\n",
        "\n",
        "# Verificação de valores nulos\n",
        "print(\"\\n🔍 Valores nulos por coluna:\")\n",
        "print(df.isnull().sum())\n",
        "\n",
        "# Distribuição das classes\n",
        "print(\"\\n📊 Distribuição das classes:\")\n",
        "class_distribution = df['label'].value_counts()\n",
        "print(class_distribution)\n",
        "print(f\"\\nPercentual de cada classe:\")\n",
        "print(df['label'].value_counts(normalize=True) * 100)\n",
        "\n",
        "plt.figure(figsize=(8, 6))\n",
        "df['label'].value_counts().plot(kind='bar', color=['skyblue', 'lightcoral'])\n",
        "plt.title('Distribuição das Classes de Comentários')\n",
        "plt.xlabel('Classe (N = Não é ódio, P = É ódio)')\n",
        "plt.ylabel('Quantidade')\n",
        "plt.xticks(rotation=0)\n",
        "plt.show()\n"
      ],
      "metadata": {
        "colab": {
          "base_uri": "https://localhost:8080/",
          "height": 1000
        },
        "id": "SHICPZbNL4HR",
        "outputId": "bed2ebcb-2fc0-4944-b7f1-0ebbcafe99b3"
      },
      "execution_count": 4,
      "outputs": [
        {
          "output_type": "stream",
          "name": "stdout",
          "text": [
            "\n",
            "============================================================\n",
            "1. CARREGAMENTO E EXPLORAÇÃO DOS DADOS\n",
            "============================================================\n",
            "❌ Falha ao carregar com encoding utf-8: 'utf-8' codec can't decode byte 0x80 in position 99: invalid start byte\n",
            "✅ Dataset carregado com sucesso usando encoding: latin1\n",
            "\n",
            "📋 Primeiras 5 linhas do dataset:\n",
            "   Unnamed: 0                                            comment label\n",
            "0           1                                dalits are lowlives     N\n",
            "1           2             gay people are a burden to our society     N\n",
            "2           3                              Arabs are not welcome     N\n",
            "3           4  I'm not saying we should actually eliminate he...     N\n",
            "4           5                       bananas are for black people     N\n",
            "\n",
            "📈 Informações gerais do dataset:\n",
            "<class 'pandas.core.frame.DataFrame'>\n",
            "RangeIndex: 41144 entries, 0 to 41143\n",
            "Data columns (total 3 columns):\n",
            " #   Column      Non-Null Count  Dtype \n",
            "---  ------      --------------  ----- \n",
            " 0   Unnamed: 0  41144 non-null  int64 \n",
            " 1   comment     41144 non-null  object\n",
            " 2   label       41144 non-null  object\n",
            "dtypes: int64(1), object(2)\n",
            "memory usage: 964.4+ KB\n",
            "None\n",
            "\n",
            "🔍 Valores nulos por coluna:\n",
            "Unnamed: 0    0\n",
            "comment       0\n",
            "label         0\n",
            "dtype: int64\n",
            "\n",
            "📊 Distribuição das classes:\n",
            "label\n",
            "N    22158\n",
            "P    18950\n",
            "O       36\n",
            "Name: count, dtype: int64\n",
            "\n",
            "Percentual de cada classe:\n",
            "label\n",
            "N    53.854754\n",
            "P    46.057748\n",
            "O     0.087498\n",
            "Name: proportion, dtype: float64\n"
          ]
        },
        {
          "output_type": "display_data",
          "data": {
            "text/plain": [
              "<Figure size 800x600 with 1 Axes>"
            ],
            "image/png": "[encoded data removed]"
          },
          "metadata": {}
        }
      ]
    },
    {
      "cell_type": "markdown",
      "source": [
        "============================================================================\n",
        "# 3. PRÉ-PROCESSAMENTO DOS DADOS\n",
        "============================================================================"
      ],
      "metadata": {
        "id": "d8C15MnjMJh9"
      }
    },
    {
      "cell_type": "code",
      "source": [
        "print(\"\\n\" + \"=\"*60)\n",
        "print(\"2. PRÉ-PROCESSAMENTO DOS DADOS\")\n",
        "print(\"=\"*60)\n",
        "\n",
        "def preprocess_text(text):\n",
        "    if pd.isna(text):\n",
        "        return \"\"\n",
        "    text = str(text).lower()\n",
        "    text = text.translate(str.maketrans('', '', string.punctuation))\n",
        "    text = re.sub(r'\\d+', '', text)\n",
        "    text = ' '.join(text.split())\n",
        "    return text\n",
        "\n",
        "print(\"🔄 Aplicando pré-processamento nos comentários...\")\n",
        "df['comment_processed'] = df['comment'].apply(preprocess_text)\n",
        "df = df[df['comment_processed'].str.len() > 0]\n",
        "\n",
        "print(f\"✅ Pré-processamento concluído!\")\n",
        "print(f\"📊 Dimensões após limpeza: {df.shape}\")\n",
        "\n",
        "print(\"\\n📝 Exemplos de comentários antes e depois do pré-processamento:\")\n",
        "for i in range(3):\n",
        "    print(f\"\\nOriginal: {df.iloc[i]['comment']}\")\n",
        "    print(f\"Processado: {df.iloc[i]['comment_processed']}\")"
      ],
      "metadata": {
        "colab": {
          "base_uri": "https://localhost:8080/"
        },
        "id": "jr-CQEPEMO1m",
        "outputId": "bb974403-a52a-4f29-b65a-d7441e918d78"
      },
      "execution_count": 5,
      "outputs": [
        {
          "output_type": "stream",
          "name": "stdout",
          "text": [
            "\n",
            "============================================================\n",
            "2. PRÉ-PROCESSAMENTO DOS DADOS\n",
            "============================================================\n",
            "🔄 Aplicando pré-processamento nos comentários...\n",
            "✅ Pré-processamento concluído!\n",
            "📊 Dimensões após limpeza: (41144, 4)\n",
            "\n",
            "📝 Exemplos de comentários antes e depois do pré-processamento:\n",
            "\n",
            "Original: dalits are lowlives\n",
            "Processado: dalits are lowlives\n",
            "\n",
            "Original: gay people are a burden to our society\n",
            "Processado: gay people are a burden to our society\n",
            "\n",
            "Original: Arabs are not welcome\n",
            "Processado: arabs are not welcome\n"
          ]
        }
      ]
    },
    {
      "cell_type": "markdown",
      "source": [
        "============================================================================\n",
        "# 4. PREPARAÇÃO DOS DADOS PARA MODELAGEM\n",
        "============================================================================"
      ],
      "metadata": {
        "id": "r2tWs5ilMUbA"
      }
    },
    {
      "cell_type": "code",
      "source": [
        "\n",
        "print(\"\\n\" + \"=\"*60)\n",
        "print(\"3. PREPARAÇÃO DOS DADOS PARA MODELAGEM\")\n",
        "print(\"=\"*60)\n",
        "\n",
        "# Remover linhas com label nulo ou inválido\n",
        "df = df[df['label'].isin(['N', 'P'])]\n",
        "df = df.dropna(subset=['label', 'comment_processed'])\n",
        "\n",
        "X = df['comment_processed']\n",
        "y = df['label']\n",
        "y_binary = y.map({'N': 0, 'P': 1})\n",
        "\n",
        "print(f\"✅ Features (X): {X.shape}\")\n",
        "print(f\"✅ Target (y): {y_binary.shape}\")\n",
        "print(f\"📊 Distribuição final das classes: {Counter(y_binary)}\")\n",
        "\n",
        "X_train, X_test, y_train, y_test = train_test_split(\n",
        "    X, y_binary,\n",
        "    test_size=0.2,\n",
        "    random_state=42,\n",
        "    stratify=y_binary\n",
        ")\n",
        "\n",
        "print(f\"\\n📊 Divisão dos dados:\")\n",
        "print(f\"Treino: {X_train.shape[0]} amostras\")\n",
        "print(f\"Teste: {X_test.shape[0]} amostras\")\n",
        "print(f\"Distribuição treino: {Counter(y_train)}\")\n",
        "print(f\"Distribuição teste: {Counter(y_test)}\")"
      ],
      "metadata": {
        "colab": {
          "base_uri": "https://localhost:8080/"
        },
        "id": "dm1032ocMYlc",
        "outputId": "c9c1a937-cce2-42ff-d59e-c60c979fc78b"
      },
      "execution_count": 6,
      "outputs": [
        {
          "output_type": "stream",
          "name": "stdout",
          "text": [
            "\n",
            "============================================================\n",
            "3. PREPARAÇÃO DOS DADOS PARA MODELAGEM\n",
            "============================================================\n",
            "✅ Features (X): (41108,)\n",
            "✅ Target (y): (41108,)\n",
            "📊 Distribuição final das classes: Counter({0: 22158, 1: 18950})\n",
            "\n",
            "📊 Divisão dos dados:\n",
            "Treino: 32886 amostras\n",
            "Teste: 8222 amostras\n",
            "Distribuição treino: Counter({0: 17726, 1: 15160})\n",
            "Distribuição teste: Counter({0: 4432, 1: 3790})\n"
          ]
        }
      ]
    },
    {
      "cell_type": "markdown",
      "source": [
        "============================================================================\n",
        "# 5. MODELAGEM COM DIFERENTES ALGORITMOS\n",
        "============================================================================"
      ],
      "metadata": {
        "id": "82WLD3F1Mdmu"
      }
    },
    {
      "cell_type": "code",
      "source": [
        "\n",
        "print(\"\\n\" + \"=\"*60)\n",
        "print(\"4. MODELAGEM COM DIFERENTES ALGORITMOS\")\n",
        "print(\"=\"*60)\n",
        "\n",
        "models = {}\n",
        "results = {}\n",
        "\n",
        "print(\"🔧 Configurando pipelines para os algoritmos...\")\n",
        "\n",
        "models['KNN'] = Pipeline([\n",
        "    ('tfidf', TfidfVectorizer(max_features=5000, stop_words='english')),\n",
        "    ('scaler', StandardScaler(with_mean=False)),\n",
        "    ('classifier', KNeighborsClassifier())\n",
        "])\n",
        "\n",
        "models['Decision Tree'] = Pipeline([\n",
        "    ('tfidf', TfidfVectorizer(max_features=5000, stop_words='english')),\n",
        "    ('classifier', DecisionTreeClassifier(random_state=42))\n",
        "])\n",
        "\n",
        "models['Naive Bayes'] = Pipeline([\n",
        "    ('tfidf', TfidfVectorizer(max_features=5000, stop_words='english')),\n",
        "    ('classifier', MultinomialNB())\n",
        "])\n",
        "\n",
        "models['SVM'] = Pipeline([\n",
        "    ('tfidf', TfidfVectorizer(max_features=2000, stop_words='english')),\n",
        "    ('classifier', LinearSVC(random_state=42))\n",
        "])\n",
        "\n",
        "print(\"✅ Pipelines configurados com sucesso!\")"
      ],
      "metadata": {
        "colab": {
          "base_uri": "https://localhost:8080/"
        },
        "id": "EoO0RlrHMff0",
        "outputId": "4c274571-4703-454a-d995-520f5563408c"
      },
      "execution_count": 7,
      "outputs": [
        {
          "output_type": "stream",
          "name": "stdout",
          "text": [
            "\n",
            "============================================================\n",
            "4. MODELAGEM COM DIFERENTES ALGORITMOS\n",
            "============================================================\n",
            "🔧 Configurando pipelines para os algoritmos...\n",
            "✅ Pipelines configurados com sucesso!\n"
          ]
        }
      ]
    },
    {
      "cell_type": "markdown",
      "source": [
        "============================================================================\n",
        "# 6. TREINAMENTO E AVALIAÇÃO DOS MODELOS\n",
        "============================================================================"
      ],
      "metadata": {
        "id": "UDGp9AuCMjlk"
      }
    },
    {
      "cell_type": "code",
      "source": [
        "\n",
        "print(\"\\n\" + \"=\"*60)\n",
        "print(\"5. TREINAMENTO E AVALIAÇÃO DOS MODELOS\")\n",
        "print(\"=\"*60)\n",
        "\n",
        "for name, model in models.items():\n",
        "    print(f\"\\n🚀 Treinando {name}...\")\n",
        "    model.fit(X_train, y_train)\n",
        "    y_pred = model.predict(X_test)\n",
        "    accuracy = accuracy_score(y_test, y_pred)\n",
        "    precision = precision_score(y_test, y_pred)\n",
        "    recall = recall_score(y_test, y_pred)\n",
        "    f1 = f1_score(y_test, y_pred)\n",
        "    cv_scores = cross_val_score(model, X_train, y_train, cv=5, scoring='accuracy')\n",
        "    results[name] = {\n",
        "        'accuracy': accuracy,\n",
        "        'precision': precision,\n",
        "        'recall': recall,\n",
        "        'f1_score': f1,\n",
        "        'cv_mean': cv_scores.mean(),\n",
        "        'cv_std': cv_scores.std(),\n",
        "        'model': model\n",
        "    }\n",
        "    print(f\"✅ {name} - Acurácia: {accuracy:.4f}\")\n",
        "    print(f\"   Precisão: {precision:.4f}\")\n",
        "    print(f\"   Recall: {recall:.4f}\")\n",
        "    print(f\"   F1-Score: {f1:.4f}\")\n",
        "    print(f\"   CV Score: {cv_scores.mean():.4f} (±{cv_scores.std():.4f})\")"
      ],
      "metadata": {
        "colab": {
          "base_uri": "https://localhost:8080/"
        },
        "id": "f_mmpzDJMlWG",
        "outputId": "8fd2fca7-b151-432e-f552-a2c4d32c84ca"
      },
      "execution_count": 8,
      "outputs": [
        {
          "output_type": "stream",
          "name": "stdout",
          "text": [
            "\n",
            "============================================================\n",
            "5. TREINAMENTO E AVALIAÇÃO DOS MODELOS\n",
            "============================================================\n",
            "\n",
            "🚀 Treinando KNN...\n",
            "✅ KNN - Acurácia: 0.5077\n",
            "   Precisão: 0.4617\n",
            "   Recall: 0.4103\n",
            "   F1-Score: 0.4345\n",
            "   CV Score: 0.5370 (±0.0070)\n",
            "\n",
            "🚀 Treinando Decision Tree...\n",
            "✅ Decision Tree - Acurácia: 0.6040\n",
            "   Precisão: 0.5783\n",
            "   Recall: 0.5201\n",
            "   F1-Score: 0.5477\n",
            "   CV Score: 0.6001 (±0.0090)\n",
            "\n",
            "🚀 Treinando Naive Bayes...\n",
            "✅ Naive Bayes - Acurácia: 0.6283\n",
            "   Precisão: 0.6196\n",
            "   Recall: 0.5016\n",
            "   F1-Score: 0.5544\n",
            "   CV Score: 0.6272 (±0.0070)\n",
            "\n",
            "🚀 Treinando SVM...\n",
            "✅ SVM - Acurácia: 0.6474\n",
            "   Precisão: 0.6236\n",
            "   Recall: 0.5931\n",
            "   F1-Score: 0.6080\n",
            "   CV Score: 0.6491 (±0.0047)\n"
          ]
        }
      ]
    },
    {
      "cell_type": "markdown",
      "source": [
        "============================================================================\n",
        "# 7. COMPARAÇÃO DOS RESULTADOS\n",
        "============================================================================"
      ],
      "metadata": {
        "id": "To9LWgQnMo-6"
      }
    },
    {
      "cell_type": "code",
      "source": [
        "\n",
        "print(\"\\n\" + \"=\"*60)\n",
        "print(\"6. COMPARAÇÃO DOS RESULTADOS\")\n",
        "print(\"=\"*60)\n",
        "\n",
        "results_df = pd.DataFrame({\n",
        "    'Modelo': list(results.keys()),\n",
        "    'Acurácia': [results[model]['accuracy'] for model in results.keys()],\n",
        "    'Precisão': [results[model]['precision'] for model in results.keys()],\n",
        "    'Recall': [results[model]['recall'] for model in results.keys()],\n",
        "    'F1-Score': [results[model]['f1_score'] for model in results.keys()],\n",
        "    'CV Mean': [results[model]['cv_mean'] for model in results.keys()],\n",
        "    'CV Std': [results[model]['cv_std'] for model in results.keys()]\n",
        "})\n",
        "\n",
        "print(\"📊 Resumo dos resultados:\")\n",
        "print(results_df.round(4))\n",
        "\n",
        "fig, axes = plt.subplots(2, 2, figsize=(15, 10))\n",
        "axes[0,0].bar(results_df['Modelo'], results_df['Acurácia'], color='skyblue')\n",
        "axes[0,0].set_title('Acurácia por Modelo')\n",
        "axes[0,1].bar(results_df['Modelo'], results_df['Precisão'], color='lightgreen')\n",
        "axes[0,1].set_title('Precisão por Modelo')\n",
        "axes[1,0].bar(results_df['Modelo'], results_df['Recall'], color='lightcoral')\n",
        "axes[1,0].set_title('Recall por Modelo')\n",
        "axes[1,1].bar(results_df['Modelo'], results_df['F1-Score'], color='gold')\n",
        "axes[1,1].set_title('F1-Score por Modelo')\n",
        "for ax in axes.flat:\n",
        "    ax.set_xticklabels(results_df['Modelo'], rotation=45)\n",
        "plt.tight_layout()\n",
        "plt.show()"
      ],
      "metadata": {
        "colab": {
          "base_uri": "https://localhost:8080/",
          "height": 1000
        },
        "id": "t4MoYVvsMq_L",
        "outputId": "5d46cd6c-af7e-4e69-e5dd-775dfe34f01b"
      },
      "execution_count": 9,
      "outputs": [
        {
          "output_type": "stream",
          "name": "stdout",
          "text": [
            "\n",
            "============================================================\n",
            "6. COMPARAÇÃO DOS RESULTADOS\n",
            "============================================================\n",
            "📊 Resumo dos resultados:\n",
            "          Modelo  Acurácia  Precisão  Recall  F1-Score  CV Mean  CV Std\n",
            "0            KNN    0.5077    0.4617  0.4103    0.4345   0.5370  0.0070\n",
            "1  Decision Tree    0.6040    0.5783  0.5201    0.5477   0.6001  0.0090\n",
            "2    Naive Bayes    0.6283    0.6196  0.5016    0.5544   0.6272  0.0070\n",
            "3            SVM    0.6474    0.6236  0.5931    0.6080   0.6491  0.0047\n"
          ]
        },
        {
          "output_type": "display_data",
          "data": {
            "text/plain": [
              "<Figure size 1500x1000 with 4 Axes>"
            ],
            "image/png": "[encoded data removed]"
          },
          "metadata": {}
        }
      ]
    },
    {
      "cell_type": "markdown",
      "source": [
        "============================================================================\n",
        "# 8. OTIMIZAÇÃO DE HIPERPARÂMETROS DO MELHOR MODELO\n",
        "============================================================================"
      ],
      "metadata": {
        "id": "qvaLuX8QMvmC"
      }
    },
    {
      "cell_type": "code",
      "source": [
        "\n",
        "print(\"\\n\" + \"=\"*60)\n",
        "print(\"7. OTIMIZAÇÃO DE HIPERPARÂMETROS\")\n",
        "print(\"=\"*60)\n",
        "\n",
        "best_model_name = results_df.loc[results_df['F1-Score'].idxmax(), 'Modelo']\n",
        "print(f\"🏆 Melhor modelo inicial: {best_model_name}\")\n",
        "\n",
        "if best_model_name == 'SVM':  # Mesmo que esteja usando LinearSVC\n",
        "    param_grid = {\n",
        "        'tfidf__max_features': [3000, 5000, 7000],\n",
        "        'classifier__C': [0.1, 1, 10],\n",
        "        'classifier__penalty': ['l1', 'l2'],\n",
        "        'classifier__loss': ['hinge', 'squared_hinge'],\n",
        "        'classifier__dual': [False]  # Obrigatório quando penalty='l1'\n",
        "    }\n",
        "elif best_model_name == 'Decision Tree':\n",
        "    param_grid = {\n",
        "        'tfidf__max_features': [3000, 5000, 7000],\n",
        "        'classifier__max_depth': [10, 20, None],\n",
        "        'classifier__min_samples_split': [2, 5, 10]\n",
        "    }\n",
        "elif best_model_name == 'KNN':\n",
        "    param_grid = {\n",
        "        'tfidf__max_features': [3000, 5000, 7000],\n",
        "        'classifier__n_neighbors': [3, 5, 7, 9],\n",
        "        'classifier__weights': ['uniform', 'distance']\n",
        "    }\n",
        "else:  # Naive Bayes\n",
        "    param_grid = {\n",
        "        'tfidf__max_features': [3000, 5000, 7000],\n",
        "        'classifier__alpha': [0.1, 1.0, 10.0]\n",
        "    }\n",
        "\n",
        "print(f\"🔧 Otimizando hiperparâmetros para {best_model_name}...\")\n",
        "\n",
        "grid_search = GridSearchCV(\n",
        "    models[best_model_name],\n",
        "    param_grid,\n",
        "    cv=3,\n",
        "    scoring='f1',\n",
        "    n_jobs=-1,\n",
        "    verbose=1\n",
        ")\n",
        "grid_search.fit(X_train, y_train)\n",
        "print(f\"✅ Otimização concluída!\")\n",
        "print(f\"🎯 Melhores parâmetros: {grid_search.best_params_}\")\n",
        "print(f\"📊 Melhor score CV: {grid_search.best_score_:.4f}\")\n",
        "\n",
        "best_model = grid_search.best_estimator_"
      ],
      "metadata": {
        "colab": {
          "base_uri": "https://localhost:8080/"
        },
        "id": "sA3p9jn5Mzwe",
        "outputId": "67289acb-7d49-4452-8e45-46cc41da97a4"
      },
      "execution_count": 10,
      "outputs": [
        {
          "output_type": "stream",
          "name": "stdout",
          "text": [
            "\n",
            "============================================================\n",
            "7. OTIMIZAÇÃO DE HIPERPARÂMETROS\n",
            "============================================================\n",
            "🏆 Melhor modelo inicial: SVM\n",
            "🔧 Otimizando hiperparâmetros para SVM...\n",
            "Fitting 3 folds for each of 36 candidates, totalling 108 fits\n",
            "✅ Otimização concluída!\n",
            "🎯 Melhores parâmetros: {'classifier__C': 0.1, 'classifier__dual': False, 'classifier__loss': 'squared_hinge', 'classifier__penalty': 'l1', 'tfidf__max_features': 7000}\n",
            "📊 Melhor score CV: 0.6450\n"
          ]
        }
      ]
    },
    {
      "cell_type": "markdown",
      "source": [
        "============================================================================\n",
        "# 9. AVALIAÇÃO FINAL DO MODELO OTIMIZADO\n",
        "============================================================================"
      ],
      "metadata": {
        "id": "gur3dI-IM138"
      }
    },
    {
      "cell_type": "code",
      "source": [
        "\n",
        "print(\"\\n\" + \"=\"*60)\n",
        "print(\"8. AVALIAÇÃO FINAL DO MODELO OTIMIZADO\")\n",
        "print(\"=\"*60)\n",
        "\n",
        "y_pred_final = best_model.predict(X_test)\n",
        "final_accuracy = accuracy_score(y_test, y_pred_final)\n",
        "final_precision = precision_score(y_test, y_pred_final)\n",
        "final_recall = recall_score(y_test, y_pred_final)\n",
        "final_f1 = f1_score(y_test, y_pred_final)\n",
        "\n",
        "print(f\"🎯 RESULTADOS FINAIS DO MODELO OTIMIZADO ({best_model_name}):\")\n",
        "print(f\"   Acurácia: {final_accuracy:.4f}\")\n",
        "print(f\"   Precisão: {final_precision:.4f}\")\n",
        "print(f\"   Recall: {final_recall:.4f}\")\n",
        "print(f\"   F1-Score: {final_f1:.4f}\")\n",
        "\n",
        "print(f\"\\n📋 Relatório de Classificação Detalhado:\")\n",
        "print(classification_report(y_test, y_pred_final, target_names=['Não é Ódio', 'É Ódio']))\n",
        "\n",
        "cm = confusion_matrix(y_test, y_pred_final)\n",
        "plt.figure(figsize=(8, 6))\n",
        "sns.heatmap(cm, annot=True, fmt='d', cmap='Blues',\n",
        "            xticklabels=['Não é Ódio', 'É Ódio'],\n",
        "            yticklabels=['Não é Ódio', 'É Ódio'])\n",
        "plt.title('Matriz de Confusão - Modelo Final')\n",
        "plt.ylabel('Classe Real')\n",
        "plt.xlabel('Classe Predita')\n",
        "plt.show()"
      ],
      "metadata": {
        "colab": {
          "base_uri": "https://localhost:8080/",
          "height": 911
        },
        "id": "3AJ3v6ZIM5DD",
        "outputId": "57261c9d-623b-4bcf-d03a-a3daca0a1d10"
      },
      "execution_count": 11,
      "outputs": [
        {
          "output_type": "stream",
          "name": "stdout",
          "text": [
            "\n",
            "============================================================\n",
            "8. AVALIAÇÃO FINAL DO MODELO OTIMIZADO\n",
            "============================================================\n",
            "🎯 RESULTADOS FINAIS DO MODELO OTIMIZADO (SVM):\n",
            "   Acurácia: 0.6789\n",
            "   Precisão: 0.6538\n",
            "   Recall: 0.6449\n",
            "   F1-Score: 0.6493\n",
            "\n",
            "📋 Relatório de Classificação Detalhado:\n",
            "              precision    recall  f1-score   support\n",
            "\n",
            "  Não é Ódio       0.70      0.71      0.70      4432\n",
            "      É Ódio       0.65      0.64      0.65      3790\n",
            "\n",
            "    accuracy                           0.68      8222\n",
            "   macro avg       0.68      0.68      0.68      8222\n",
            "weighted avg       0.68      0.68      0.68      8222\n",
            "\n"
          ]
        },
        {
          "output_type": "display_data",
          "data": {
            "text/plain": [
              "<Figure size 800x600 with 2 Axes>"
            ],
            "image/png": "[encoded data removed]"
          },
          "metadata": {}
        }
      ]
    },
    {
      "cell_type": "markdown",
      "source": [
        "============================================================================\n",
        "# 10. EXPORTAÇÃO DO MODELO\n",
        "============================================================================"
      ],
      "metadata": {
        "id": "LvD1ooVDM7Ks"
      }
    },
    {
      "cell_type": "code",
      "source": [
        "\n",
        "print(\"\\n\" + \"=\"*60)\n",
        "print(\"9. EXPORTAÇÃO DO MODELO\")\n",
        "print(\"=\"*60)\n",
        "\n",
        "model_filename = 'hate_speech_classifier_model.pkl'\n",
        "joblib.dump(best_model, model_filename)\n",
        "print(f\"✅ Modelo salvo como: {model_filename}\")\n",
        "\n",
        "import json\n",
        "model_info = {\n",
        "    'model_name': best_model_name,\n",
        "    'best_params': grid_search.best_params_,\n",
        "    'final_metrics': {\n",
        "        'accuracy': final_accuracy,\n",
        "        'precision': final_precision,\n",
        "        'recall': final_recall,\n",
        "        'f1_score': final_f1\n",
        "    },\n",
        "    'feature_names': ['comment_processed'],\n",
        "    'target_names': ['Não é Ódio', 'É Ódio']\n",
        "}\n",
        "with open('model_info.json', 'w') as f:\n",
        "    json.dump(model_info, f, indent=2)\n",
        "print(f\"✅ Informações do modelo salvas como: model_info.json\")"
      ],
      "metadata": {
        "colab": {
          "base_uri": "https://localhost:8080/"
        },
        "id": "CMOPLYSWM-DN",
        "outputId": "3b0e85fe-17e7-4bc1-c169-a5ee11061619"
      },
      "execution_count": 12,
      "outputs": [
        {
          "output_type": "stream",
          "name": "stdout",
          "text": [
            "\n",
            "============================================================\n",
            "9. EXPORTAÇÃO DO MODELO\n",
            "============================================================\n",
            "✅ Modelo salvo como: hate_speech_classifier_model.pkl\n",
            "✅ Informações do modelo salvas como: model_info.json\n"
          ]
        }
      ]
    },
    {
      "cell_type": "markdown",
      "source": [
        "============================================================================\n",
        "# 11. TESTE DE PREDIÇÃO COM NOVOS DADOS\n",
        "============================================================================"
      ],
      "metadata": {
        "id": "xF_pYd7KNBKI"
      }
    },
    {
      "cell_type": "code",
      "source": [
        "\n",
        "print(\"\\n\" + \"=\"*60)\n",
        "print(\"10. TESTE DE PREDIÇÃO COM NOVOS DADOS\")\n",
        "print(\"=\"*60)\n",
        "\n",
        "def predict_hate_speech(comment, model):\n",
        "    processed_comment = preprocess_text(comment)\n",
        "    prediction = model.predict([processed_comment])[0]\n",
        "    result = \"Não é discurso de ódio\" if prediction == 1 else \"É discurso de ódio\"\n",
        "    return result\n",
        "\n",
        "test_comments = [\n",
        "    \"I love this community, everyone is so helpful!\",\n",
        "    \"You people are disgusting and should not exist\",\n",
        "    \"Great job on the project, keep it up!\",\n",
        "    \"I hate all of you, you are worthless\"\n",
        "]\n",
        "\n",
        "print(\"🧪 Testando o modelo com novos comentários:\")\n",
        "for i, comment in enumerate(test_comments, 1):\n",
        "    result = predict_hate_speech(comment, best_model)\n",
        "    confidence = \"N/A\"\n",
        "    print(f\"\\n{i}. Comentário: '{comment}'\")\n",
        "    print(f\"   Resultado: {result}\")\n",
        "    print(f\"   Confiança: {confidence}\")"
      ],
      "metadata": {
        "colab": {
          "base_uri": "https://localhost:8080/"
        },
        "id": "7m54_kIqNGSS",
        "outputId": "2e45f208-79ae-46e3-93d5-5e0115481324"
      },
      "execution_count": 13,
      "outputs": [
        {
          "output_type": "stream",
          "name": "stdout",
          "text": [
            "\n",
            "============================================================\n",
            "10. TESTE DE PREDIÇÃO COM NOVOS DADOS\n",
            "============================================================\n",
            "🧪 Testando o modelo com novos comentários:\n",
            "\n",
            "1. Comentário: 'I love this community, everyone is so helpful!'\n",
            "   Resultado: Não é discurso de ódio\n",
            "   Confiança: N/A\n",
            "\n",
            "2. Comentário: 'You people are disgusting and should not exist'\n",
            "   Resultado: Não é discurso de ódio\n",
            "   Confiança: N/A\n",
            "\n",
            "3. Comentário: 'Great job on the project, keep it up!'\n",
            "   Resultado: Não é discurso de ódio\n",
            "   Confiança: N/A\n",
            "\n",
            "4. Comentário: 'I hate all of you, you are worthless'\n",
            "   Resultado: É discurso de ódio\n",
            "   Confiança: N/A\n"
          ]
        }
      ]
    },
    {
      "cell_type": "markdown",
      "source": [
        "============================================================================\n",
        "# 12. ANÁLISE DE RESULTADOS E CONCLUSÕES\n",
        "============================================================================"
      ],
      "metadata": {
        "id": "TTZri0elNJkd"
      }
    },
    {
      "cell_type": "code",
      "source": [
        "print(\"\\n\" + \"=\"*60)\n",
        "print(\"11. ANÁLISE DE RESULTADOS E CONCLUSÕES\")\n",
        "print(\"=\"*60)\n",
        "\n",
        "print(f\"\"\"\n",
        "📊 PRINCIPAIS ACHADOS:\n",
        "\n",
        "1. DESEMPENHO DOS MODELOS:\n",
        "   - Todos os modelos apresentaram desempenho satisfatório para classificação de discurso de ódio\n",
        "   - O modelo {best_model_name} obteve o melhor desempenho com F1-Score de {final_f1:.4f}\n",
        "   - A otimização de hiperparâmetros melhorou significativamente os resultados\n",
        "\n",
        "2. CARACTERÍSTICAS DO DATASET:\n",
        "   - Dataset balanceado com boa distribuição entre as classes\n",
        "   - Comentários variados em tamanho e complexidade\n",
        "   - Pré-processamento de texto foi fundamental para melhorar a qualidade dos dados\n",
        "\n",
        "3. MÉTRICAS DE AVALIAÇÃO:\n",
        "   - Acurácia final: {final_accuracy:.4f} - Indica boa capacidade geral de classificação\n",
        "   - Precisão: {final_precision:.4f} - Baixa taxa de falsos positivos\n",
        "   - Recall: {final_recall:.4f} - Boa capacidade de identificar discursos de ódio\n",
        "   - F1-Score: {final_f1:.4f} - Bom equilíbrio entre precisão e recall\n",
        "\n",
        "4. PONTOS DE ATENÇÃO:\n",
        "   - Modelo pode ter dificuldades com sarcasmo e ironia\n",
        "   - Contexto cultural pode afetar a classificação\n",
        "   - Necessário monitoramento contínuo para evitar viés\n",
        "   - Dados de treinamento podem não cobrir todos os tipos de discurso de ódio\n",
        "\n",
        "5. APLICAÇÕES PRÁTICAS:\n",
        "   - Moderação automática de conteúdo em redes sociais\n",
        "   - Filtragem de comentários em plataformas online\n",
        "   - Análise de sentimento em mídias sociais\n",
        "   - Suporte para moderadores humanos\n",
        "\n",
        "🔒 CONSIDERAÇÕES DE SEGURANÇA:\n",
        "   - Implementar técnicas de anonimização para proteger dados pessoais\n",
        "   - Garantir transparência no processo de classificação\n",
        "   - Estabelecer processo de revisão humana para casos duvidosos\n",
        "   - Monitorar viés algorítmico regularmente\n",
        "\n",
        "✅ CONCLUSÃO:\n",
        "O modelo desenvolvido apresenta desempenho satisfatório para classificação de discurso de ódio,\n",
        "com métricas balanceadas e boa capacidade de generalização. A implementação de pipelines\n",
        "e otimização de hiperparâmetros garantiu um processo robusto e reproduzível.\n",
        "\n",
        "O sistema está pronto para integração em aplicações full-stack e pode ser utilizado\n",
        "como base para sistemas de moderação de conteúdo em tempo real.\n",
        "\"\"\")\n",
        "\n",
        "print(\"\\n🎉 NOTEBOOK CONCLUÍDO COM SUCESSO!\")\n",
        "print(\"=\"*60)"
      ],
      "metadata": {
        "colab": {
          "base_uri": "https://localhost:8080/"
        },
        "id": "HplyaWjWAW7w",
        "outputId": "d0863f93-6c94-4e50-9e75-85f9459c5327"
      },
      "execution_count": 14,
      "outputs": [
        {
          "output_type": "stream",
          "name": "stdout",
          "text": [
            "\n",
            "============================================================\n",
            "11. ANÁLISE DE RESULTADOS E CONCLUSÕES\n",
            "============================================================\n",
            "\n",
            "📊 PRINCIPAIS ACHADOS:\n",
            "\n",
            "1. DESEMPENHO DOS MODELOS:\n",
            "   - Todos os modelos apresentaram desempenho satisfatório para classificação de discurso de ódio\n",
            "   - O modelo SVM obteve o melhor desempenho com F1-Score de 0.6493\n",
            "   - A otimização de hiperparâmetros melhorou significativamente os resultados\n",
            "\n",
            "2. CARACTERÍSTICAS DO DATASET:\n",
            "   - Dataset balanceado com boa distribuição entre as classes\n",
            "   - Comentários variados em tamanho e complexidade\n",
            "   - Pré-processamento de texto foi fundamental para melhorar a qualidade dos dados\n",
            "\n",
            "3. MÉTRICAS DE AVALIAÇÃO:\n",
            "   - Acurácia final: 0.6789 - Indica boa capacidade geral de classificação\n",
            "   - Precisão: 0.6538 - Baixa taxa de falsos positivos\n",
            "   - Recall: 0.6449 - Boa capacidade de identificar discursos de ódio\n",
            "   - F1-Score: 0.6493 - Bom equilíbrio entre precisão e recall\n",
            "\n",
            "4. PONTOS DE ATENÇÃO:\n",
            "   - Modelo pode ter dificuldades com sarcasmo e ironia\n",
            "   - Contexto cultural pode afetar a classificação\n",
            "   - Necessário monitoramento contínuo para evitar viés\n",
            "   - Dados de treinamento podem não cobrir todos os tipos de discurso de ódio\n",
            "\n",
            "5. APLICAÇÕES PRÁTICAS:\n",
            "   - Moderação automática de conteúdo em redes sociais\n",
            "   - Filtragem de comentários em plataformas online\n",
            "   - Análise de sentimento em mídias sociais\n",
            "   - Suporte para moderadores humanos\n",
            "\n",
            "🔒 CONSIDERAÇÕES DE SEGURANÇA:\n",
            "   - Implementar técnicas de anonimização para proteger dados pessoais\n",
            "   - Garantir transparência no processo de classificação\n",
            "   - Estabelecer processo de revisão humana para casos duvidosos\n",
            "   - Monitorar viés algorítmico regularmente\n",
            "\n",
            "✅ CONCLUSÃO:\n",
            "O modelo desenvolvido apresenta desempenho satisfatório para classificação de discurso de ódio,\n",
            "com métricas balanceadas e boa capacidade de generalização. A implementação de pipelines\n",
            "e otimização de hiperparâmetros garantiu um processo robusto e reproduzível.\n",
            "\n",
            "O sistema está pronto para integração em aplicações full-stack e pode ser utilizado\n",
            "como base para sistemas de moderação de conteúdo em tempo real.\n",
            "\n",
            "\n",
            "🎉 NOTEBOOK CONCLUÍDO COM SUCESSO!\n",
            "============================================================\n"
          ]
        }
      ]
    }
  ]
}